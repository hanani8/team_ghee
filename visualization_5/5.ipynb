{
 "cells": [
  {
   "cell_type": "code",
   "execution_count": 2,
   "metadata": {},
   "outputs": [],
   "source": [
    "import numpy as np\n",
    "import pandas as pd\n",
    "import matplotlib.pyplot as plt"
   ]
  },
  {
   "cell_type": "code",
   "execution_count": 3,
   "metadata": {},
   "outputs": [],
   "source": [
    "PATH=\"./data.csv\"\n",
    "data = pd.read_csv(PATH)"
   ]
  },
  {
   "cell_type": "code",
   "execution_count": 4,
   "metadata": {},
   "outputs": [],
   "source": [
    "data = data.dropna()"
   ]
  },
  {
   "cell_type": "code",
   "execution_count": 5,
   "metadata": {},
   "outputs": [],
   "source": [
    "type = \"product_subcategory\"\n",
    "D = data.groupby('product_subcategory').aggregate({'product_rating': np.var})"
   ]
  },
  {
   "cell_type": "code",
   "execution_count": 6,
   "metadata": {},
   "outputs": [],
   "source": [
    "D = D.sort_values(by='product_rating', ascending=False)"
   ]
  },
  {
   "cell_type": "code",
   "execution_count": 7,
   "metadata": {},
   "outputs": [
    {
     "data": {
      "text/html": [
       "<div>\n",
       "<style scoped>\n",
       "    .dataframe tbody tr th:only-of-type {\n",
       "        vertical-align: middle;\n",
       "    }\n",
       "\n",
       "    .dataframe tbody tr th {\n",
       "        vertical-align: top;\n",
       "    }\n",
       "\n",
       "    .dataframe thead th {\n",
       "        text-align: right;\n",
       "    }\n",
       "</style>\n",
       "<table border=\"1\" class=\"dataframe\">\n",
       "  <thead>\n",
       "    <tr style=\"text-align: right;\">\n",
       "      <th></th>\n",
       "      <th>product_rating</th>\n",
       "    </tr>\n",
       "    <tr>\n",
       "      <th>product_subcategory</th>\n",
       "      <th></th>\n",
       "    </tr>\n",
       "  </thead>\n",
       "  <tbody>\n",
       "    <tr>\n",
       "      <th>Baby Accessories</th>\n",
       "      <td>1.777949</td>\n",
       "    </tr>\n",
       "    <tr>\n",
       "      <th>Health &amp; Medicine</th>\n",
       "      <td>1.018973</td>\n",
       "    </tr>\n",
       "    <tr>\n",
       "      <th>Fragrances &amp; Deos</th>\n",
       "      <td>0.970062</td>\n",
       "    </tr>\n",
       "    <tr>\n",
       "      <th>Chocolates &amp; Biscuits</th>\n",
       "      <td>0.930223</td>\n",
       "    </tr>\n",
       "    <tr>\n",
       "      <th>Drinks &amp; Beverages</th>\n",
       "      <td>0.894557</td>\n",
       "    </tr>\n",
       "    <tr>\n",
       "      <th>Crockery &amp; Cutlery</th>\n",
       "      <td>0.835664</td>\n",
       "    </tr>\n",
       "    <tr>\n",
       "      <th>Bakeware</th>\n",
       "      <td>0.835526</td>\n",
       "    </tr>\n",
       "    <tr>\n",
       "      <th>Skin Care</th>\n",
       "      <td>0.829106</td>\n",
       "    </tr>\n",
       "    <tr>\n",
       "      <th>Mothers &amp; Maternity</th>\n",
       "      <td>0.821779</td>\n",
       "    </tr>\n",
       "    <tr>\n",
       "      <th>Storage &amp; Accessories</th>\n",
       "      <td>0.776586</td>\n",
       "    </tr>\n",
       "  </tbody>\n",
       "</table>\n",
       "</div>"
      ],
      "text/plain": [
       "                       product_rating\n",
       "product_subcategory                  \n",
       "Baby Accessories             1.777949\n",
       "Health & Medicine            1.018973\n",
       "Fragrances & Deos            0.970062\n",
       "Chocolates & Biscuits        0.930223\n",
       "Drinks & Beverages           0.894557\n",
       "Crockery & Cutlery           0.835664\n",
       "Bakeware                     0.835526\n",
       "Skin Care                    0.829106\n",
       "Mothers & Maternity          0.821779\n",
       "Storage & Accessories        0.776586"
      ]
     },
     "execution_count": 7,
     "metadata": {},
     "output_type": "execute_result"
    }
   ],
   "source": [
    "D.head(10)"
   ]
  },
  {
   "cell_type": "code",
   "execution_count": 8,
   "metadata": {},
   "outputs": [
    {
     "data": {
      "text/html": [
       "<div>\n",
       "<style scoped>\n",
       "    .dataframe tbody tr th:only-of-type {\n",
       "        vertical-align: middle;\n",
       "    }\n",
       "\n",
       "    .dataframe tbody tr th {\n",
       "        vertical-align: top;\n",
       "    }\n",
       "\n",
       "    .dataframe thead th {\n",
       "        text-align: right;\n",
       "    }\n",
       "</style>\n",
       "<table border=\"1\" class=\"dataframe\">\n",
       "  <thead>\n",
       "    <tr style=\"text-align: right;\">\n",
       "      <th></th>\n",
       "      <th>product_rating</th>\n",
       "    </tr>\n",
       "    <tr>\n",
       "      <th>product_subcategory</th>\n",
       "      <th></th>\n",
       "    </tr>\n",
       "  </thead>\n",
       "  <tbody>\n",
       "    <tr>\n",
       "      <th>Baby Food &amp; Formula</th>\n",
       "      <td>0.138707</td>\n",
       "    </tr>\n",
       "    <tr>\n",
       "      <th>Atta, Flours &amp; Sooji</th>\n",
       "      <td>0.125694</td>\n",
       "    </tr>\n",
       "    <tr>\n",
       "      <th>Edible Oils &amp; Ghee</th>\n",
       "      <td>0.120636</td>\n",
       "    </tr>\n",
       "    <tr>\n",
       "      <th>Noodle, Pasta, Vermicelli</th>\n",
       "      <td>0.108150</td>\n",
       "    </tr>\n",
       "    <tr>\n",
       "      <th>Dairy</th>\n",
       "      <td>0.105556</td>\n",
       "    </tr>\n",
       "    <tr>\n",
       "      <th>Biscuits &amp; Cookies</th>\n",
       "      <td>0.097438</td>\n",
       "    </tr>\n",
       "    <tr>\n",
       "      <th>Ice Creams &amp; Desserts</th>\n",
       "      <td>0.089334</td>\n",
       "    </tr>\n",
       "    <tr>\n",
       "      <th>Water</th>\n",
       "      <td>0.082000</td>\n",
       "    </tr>\n",
       "    <tr>\n",
       "      <th>Rice &amp; Rice Products</th>\n",
       "      <td>0.079888</td>\n",
       "    </tr>\n",
       "    <tr>\n",
       "      <th>Cuts &amp; Sprouts</th>\n",
       "      <td>NaN</td>\n",
       "    </tr>\n",
       "  </tbody>\n",
       "</table>\n",
       "</div>"
      ],
      "text/plain": [
       "                           product_rating\n",
       "product_subcategory                      \n",
       "Baby Food & Formula              0.138707\n",
       "Atta, Flours & Sooji             0.125694\n",
       "Edible Oils & Ghee               0.120636\n",
       "Noodle, Pasta, Vermicelli        0.108150\n",
       "Dairy                            0.105556\n",
       "Biscuits & Cookies               0.097438\n",
       "Ice Creams & Desserts            0.089334\n",
       "Water                            0.082000\n",
       "Rice & Rice Products             0.079888\n",
       "Cuts & Sprouts                        NaN"
      ]
     },
     "execution_count": 8,
     "metadata": {},
     "output_type": "execute_result"
    }
   ],
   "source": [
    "D.tail(10)"
   ]
  },
  {
   "cell_type": "code",
   "execution_count": 9,
   "metadata": {},
   "outputs": [],
   "source": [
    "if type == 'product_subcategory':\n",
    "    D = D[:-1]"
   ]
  },
  {
   "cell_type": "code",
   "execution_count": 10,
   "metadata": {},
   "outputs": [
    {
     "name": "stdout",
     "output_type": "stream",
     "text": [
      "product_subcategory\n",
      "Baby Accessories          1.777949\n",
      "Health & Medicine         1.018973\n",
      "Fragrances & Deos         0.970062\n",
      "Chocolates & Biscuits     0.930223\n",
      "Drinks & Beverages        0.894557\n",
      "Crockery & Cutlery        0.835664\n",
      "Bakeware                  0.835526\n",
      "Skin Care                 0.829106\n",
      "Mothers & Maternity       0.821779\n",
      "Storage & Accessories     0.776586\n",
      "Cooking & Baking Needs    0.758286\n",
      "Steel Utensils            0.736779\n",
      "Cookware & Non Stick      0.730217\n",
      "Men's Grooming            0.723477\n",
      "Feeding & Nursing         0.667622\n",
      "Hair Care                 0.662192\n",
      "Oils & Vinegar            0.629011\n",
      "Sauces, Spreads & Dips    0.618588\n",
      "Cereals & Breakfast       0.615358\n",
      "Indian Mithai             0.585275\n",
      "Name: product_rating, dtype: float64\n"
     ]
    },
    {
     "data": {
      "image/png": "[encoded data removed]",
      "text/plain": [
       "<Figure size 600x1000 with 1 Axes>"
      ]
     },
     "metadata": {},
     "output_type": "display_data"
    }
   ],
   "source": [
    "plt.figure(facecolor='#ffdd95ff', figsize=(6, 10))\n",
    "plt.gca().use_sticky_edges = False\n",
    "d = D['product_rating'].head(20)\n",
    "print(d)\n",
    "\n",
    "# Calculate consistent axis limits based on the range of data\n",
    "min_rating = min(D['product_rating'].min(), D['product_rating'].tail(20).min())\n",
    "max_rating = max(D['product_rating'].max(), D['product_rating'].tail(20).max())\n",
    "\n",
    "plt.barh(y=range(len(d)), height=0.4, width=d, left=(max_rating - d) / 2, align='center', color='crimson')\n",
    "plt.yticks([]) # optionally remove standard y ticks and their labels\n",
    "plt.axis('off')\n",
    "\n",
    "# Set the x-axis limits to the calculated limits\n",
    "plt.xlim(min_rating, max_rating)\n",
    "\n",
    "plt.savefig(f'./5/high.svg', format='svg')"
   ]
  },
  {
   "cell_type": "code",
   "execution_count": 11,
   "metadata": {},
   "outputs": [
    {
     "name": "stdout",
     "output_type": "stream",
     "text": [
      "product_subcategory\n",
      "Energy & Soft Drinks         0.239944\n",
      "Pickles & Chutney            0.235065\n",
      "Health Drink, Supplement     0.223884\n",
      "Disposables, Garbage Bag     0.211142\n",
      "Non Dairy                    0.209699\n",
      "Masalas & Spices             0.208455\n",
      "Dals & Pulses                0.206446\n",
      "Car & Shoe Care              0.182024\n",
      "Organic Staples              0.180614\n",
      "Detergents & Dishwash        0.177108\n",
      "Salt, Sugar & Jaggery        0.148254\n",
      "Baby Food & Formula          0.138707\n",
      "Atta, Flours & Sooji         0.125694\n",
      "Edible Oils & Ghee           0.120636\n",
      "Noodle, Pasta, Vermicelli    0.108150\n",
      "Dairy                        0.105556\n",
      "Biscuits & Cookies           0.097438\n",
      "Ice Creams & Desserts        0.089334\n",
      "Water                        0.082000\n",
      "Rice & Rice Products         0.079888\n",
      "Name: product_rating, dtype: float64\n"
     ]
    },
    {
     "data": {
      "image/png": "[encoded data removed]",
      "text/plain": [
       "<Figure size 600x1000 with 1 Axes>"
      ]
     },
     "metadata": {},
     "output_type": "display_data"
    }
   ],
   "source": [
    "plt.figure(facecolor='#ffdd95ff', figsize=(6, 10))\n",
    "plt.gca().use_sticky_edges = False\n",
    "d = D['product_rating'].tail(20)\n",
    "print(d)\n",
    "\n",
    "plt.barh(y=range(len(d)), height=0.4, width=d, left=(max_rating - d) / 2, align='center', color='crimson')\n",
    "plt.yticks([]) # optionally remove standard y ticks and their labels\n",
    "plt.axis('off')\n",
    "\n",
    "# Use the same x-axis limits as the first plot\n",
    "plt.xlim(min_rating, max_rating)\n",
    "\n",
    "plt.savefig(f'./5/tail.svg', format='svg')"
   ]
  },
  {
   "cell_type": "code",
   "execution_count": 12,
   "metadata": {},
   "outputs": [],
   "source": [
    "F = data.groupby('category').aggregate({'product_rating': np.var})\n",
    "F = F.sort_values(by='product_rating', ascending=False)"
   ]
  },
  {
   "cell_type": "code",
   "execution_count": 14,
   "metadata": {},
   "outputs": [
    {
     "data": {
      "text/html": [
       "<div>\n",
       "<style scoped>\n",
       "    .dataframe tbody tr th:only-of-type {\n",
       "        vertical-align: middle;\n",
       "    }\n",
       "\n",
       "    .dataframe tbody tr th {\n",
       "        vertical-align: top;\n",
       "    }\n",
       "\n",
       "    .dataframe thead th {\n",
       "        text-align: right;\n",
       "    }\n",
       "</style>\n",
       "<table border=\"1\" class=\"dataframe\">\n",
       "  <thead>\n",
       "    <tr style=\"text-align: right;\">\n",
       "      <th></th>\n",
       "      <th>product_rating</th>\n",
       "    </tr>\n",
       "    <tr>\n",
       "      <th>category</th>\n",
       "      <th></th>\n",
       "    </tr>\n",
       "  </thead>\n",
       "  <tbody>\n",
       "    <tr>\n",
       "      <th>Beauty &amp; Hygiene</th>\n",
       "      <td>0.733658</td>\n",
       "    </tr>\n",
       "    <tr>\n",
       "      <th>Kitchen, Garden &amp; Pets</th>\n",
       "      <td>0.714645</td>\n",
       "    </tr>\n",
       "    <tr>\n",
       "      <th>Gourmet &amp; World Food</th>\n",
       "      <td>0.663965</td>\n",
       "    </tr>\n",
       "    <tr>\n",
       "      <th>Baby Care</th>\n",
       "      <td>0.586211</td>\n",
       "    </tr>\n",
       "    <tr>\n",
       "      <th>Cleaning &amp; Household</th>\n",
       "      <td>0.431822</td>\n",
       "    </tr>\n",
       "    <tr>\n",
       "      <th>Beverages</th>\n",
       "      <td>0.380214</td>\n",
       "    </tr>\n",
       "    <tr>\n",
       "      <th>Snacks &amp; Branded Foods</th>\n",
       "      <td>0.306172</td>\n",
       "    </tr>\n",
       "    <tr>\n",
       "      <th>Bakery, Cakes &amp; Dairy</th>\n",
       "      <td>0.254906</td>\n",
       "    </tr>\n",
       "    <tr>\n",
       "      <th>Foodgrains, Oil &amp; Masala</th>\n",
       "      <td>0.197640</td>\n",
       "    </tr>\n",
       "  </tbody>\n",
       "</table>\n",
       "</div>"
      ],
      "text/plain": [
       "                          product_rating\n",
       "category                                \n",
       "Beauty & Hygiene                0.733658\n",
       "Kitchen, Garden & Pets          0.714645\n",
       "Gourmet & World Food            0.663965\n",
       "Baby Care                       0.586211\n",
       "Cleaning & Household            0.431822\n",
       "Beverages                       0.380214\n",
       "Snacks & Branded Foods          0.306172\n",
       "Bakery, Cakes & Dairy           0.254906\n",
       "Foodgrains, Oil & Masala        0.197640"
      ]
     },
     "execution_count": 14,
     "metadata": {},
     "output_type": "execute_result"
    }
   ],
   "source": [
    "F.head(10)"
   ]
  },
  {
   "cell_type": "code",
   "execution_count": 16,
   "metadata": {},
   "outputs": [],
   "source": [
    "F.to_csv('./5/data.csv')"
   ]
  }
 ],
 "metadata": {
  "kernelspec": {
   "display_name": "Python 3",
   "language": "python",
   "name": "python3"
  },
  "language_info": {
   "codemirror_mode": {
    "name": "ipython",
    "version": 3
   },
   "file_extension": ".py",
   "mimetype": "text/x-python",
   "name": "python",
   "nbconvert_exporter": "python",
   "pygments_lexer": "ipython3",
   "version": "3.10.12"
  }
 },
 "nbformat": 4,
 "nbformat_minor": 2
}
