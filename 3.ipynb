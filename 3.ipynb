{
 "cells": [
  {
   "cell_type": "code",
   "execution_count": 1,
   "metadata": {},
   "outputs": [
    {
     "name": "stdout",
     "output_type": "stream",
     "text": [
      "Defaulting to user installation because normal site-packages is not writeable\n",
      "Collecting gensim\n",
      "  Downloading gensim-4.3.2-cp310-cp310-manylinux_2_17_x86_64.manylinux2014_x86_64.whl (26.5 MB)\n",
      "\u001b[2K     \u001b[38;2;114;156;31m━━━━━━━━━━━━━━━━━━━━━━━━━━━━━━━━━━━━━━━━\u001b[0m \u001b[32m26.5/26.5 MB\u001b[0m \u001b[31m10.8 MB/s\u001b[0m eta \u001b[36m0:00:00\u001b[0mm eta \u001b[36m0:00:01\u001b[0m[36m0:00:01\u001b[0m\n",
      "\u001b[?25hRequirement already satisfied: numpy in /home/hegemon/.local/lib/python3.10/site-packages (1.24.1)\n",
      "Requirement already satisfied: scikit-learn in /home/hegemon/.local/lib/python3.10/site-packages (1.2.2)\n",
      "Requirement already satisfied: scipy>=1.7.0 in /home/hegemon/.local/lib/python3.10/site-packages (from gensim) (1.10.1)\n",
      "Requirement already satisfied: smart-open>=1.8.1 in /home/hegemon/.local/lib/python3.10/site-packages (from gensim) (6.4.0)\n",
      "Requirement already satisfied: threadpoolctl>=2.0.0 in /home/hegemon/.local/lib/python3.10/site-packages (from scikit-learn) (3.1.0)\n",
      "Requirement already satisfied: joblib>=1.1.1 in /home/hegemon/.local/lib/python3.10/site-packages (from scikit-learn) (1.2.0)\n",
      "Installing collected packages: gensim\n",
      "Successfully installed gensim-4.3.2\n"
     ]
    }
   ],
   "source": [
    "!pip install gensim numpy scikit-learn"
   ]
  },
  {
   "cell_type": "code",
   "execution_count": 5,
   "metadata": {},
   "outputs": [],
   "source": [
    "import numpy as np\n",
    "import pandas as pd\n",
    "from sklearn.metrics.pairwise import cosine_similarity\n",
    "from gensim.models import KeyedVectors\n",
    "from gensim.parsing.preprocessing import remove_stopwords, strip_punctuation"
   ]
  },
  {
   "cell_type": "code",
   "execution_count": 16,
   "metadata": {},
   "outputs": [
    {
     "name": "stdout",
     "output_type": "stream",
     "text": [
      "Similarity with 'Garlic Oil - Vegetarian Capsule 500 mg,': Hair Serum - Anti-Dandruff = 0.431\n",
      "Similarity with 'Garlic Oil - Vegetarian Capsule 500 mg,': Shake & Spray Serum = 0.388\n",
      "Similarity with 'Garlic Oil - Vegetarian Capsule 500 mg,': Antibacterial Hand Sanitizer - 72% Alcohol Based Sanitizer = 0.396\n",
      "Similarity with 'Garlic Oil - Vegetarian Capsule 500 mg,': Non-Sticky, Gentle On Hands = 0.201\n",
      "Similarity with 'Garlic Oil - Vegetarian Capsule 500 mg,': Olive Oil - Classic = 0.463\n"
     ]
    }
   ],
   "source": [
    "# Load pre-trained word embeddings (Google News vectors in this case)\n",
    "model = KeyedVectors.load_word2vec_format('GoogleNews-vectors-negative300.bin', binary=True)\n",
    "\n",
    "# Example list of product titles\n",
    "product_titles = [\"Hair Serum - Anti-Dandruff\", \"Shake & Spray Serum\", \"Antibacterial Hand Sanitizer - 72% Alcohol Based Sanitizer\", \"Non-Sticky, Gentle On Hands\", \"Olive Oil - Classic\"]\n",
    "\n",
    "# Reference product title\n",
    "reference_title = \"Garlic Oil - Vegetarian Capsule 500 mg,\"\n",
    "\n",
    "def preprocess(text):\n",
    "    \"\"\" Preprocess the text by removing stopwords and punctuation. \"\"\"\n",
    "    return remove_stopwords(strip_punctuation(text.lower())).split()\n",
    "\n",
    "def get_average_vector(words):\n",
    "    \"\"\" Compute the average word vector for a list of words. \"\"\"\n",
    "    valid_words = [word for word in words if word in model.key_to_index]\n",
    "    if valid_words:\n",
    "        return np.mean(model[valid_words], axis=0)\n",
    "    else:\n",
    "        return np.zeros(model.vector_size)\n",
    "\n",
    "# Calculate word vectors for each title\n",
    "title_vectors = np.array([get_average_vector(preprocess(title)) for title in product_titles])\n",
    "reference_vector = get_average_vector(preprocess(reference_title))\n",
    "\n",
    "# Compute cosine similarities\n",
    "similarities = cosine_similarity([reference_vector], title_vectors)\n",
    "\n",
    "# Print out similarities\n",
    "for title, similarity in zip(product_titles, similarities[0]):\n",
    "    print(f\"Similarity with '{reference_title}': {title} = {similarity:.3f}\")"
   ]
  },
  {
   "cell_type": "code",
   "execution_count": 22,
   "metadata": {},
   "outputs": [],
   "source": [
    "PATH=\"./data.csv\"\n",
    "data = pd.read_csv(PATH)\n",
    "data = data.dropna()"
   ]
  },
  {
   "cell_type": "code",
   "execution_count": 43,
   "metadata": {},
   "outputs": [
    {
     "name": "stdout",
     "output_type": "stream",
     "text": [
      "product_id                                                                4\n",
      "product_title             Cereal Flip Lid Container/Storage Jar - Assort...\n",
      "category                                               Cleaning & Household\n",
      "product_subcategory                                    Bins & Bathroom Ware\n",
      "brand                                                                Nakoda\n",
      "selling_price                                                         149.0\n",
      "original_price                                                        176.0\n",
      "product_type                                       Laundry, Storage Baskets\n",
      "product_rating                                                          3.7\n",
      "product_description       Multipurpose container with an attractive desi...\n",
      "availability_status                                                In Stock\n",
      "customer_reviews_count                                                   49\n",
      "seasonal_indicator                                                   Spring\n",
      "promotion_indicator                                                      No\n",
      "shipping_weight                                                    3.869239\n",
      "bundle_indicator                                                 Individual\n",
      "customer_demographics                                                 Other\n",
      "Name: 3, dtype: object\n"
     ]
    }
   ],
   "source": [
    "reference_product = data.loc[3, :]\n",
    "reference_product_type = reference_product['product_type']\n",
    "rating_ball = 0.05\n",
    "pricing_ball = 30\n",
    "print(reference_product)"
   ]
  },
  {
   "cell_type": "code",
   "execution_count": 46,
   "metadata": {},
   "outputs": [
    {
     "data": {
      "text/html": [
       "<div>\n",
       "<style scoped>\n",
       "    .dataframe tbody tr th:only-of-type {\n",
       "        vertical-align: middle;\n",
       "    }\n",
       "\n",
       "    .dataframe tbody tr th {\n",
       "        vertical-align: top;\n",
       "    }\n",
       "\n",
       "    .dataframe thead th {\n",
       "        text-align: right;\n",
       "    }\n",
       "</style>\n",
       "<table border=\"1\" class=\"dataframe\">\n",
       "  <thead>\n",
       "    <tr style=\"text-align: right;\">\n",
       "      <th></th>\n",
       "      <th>product_id</th>\n",
       "      <th>product_title</th>\n",
       "      <th>category</th>\n",
       "      <th>product_subcategory</th>\n",
       "      <th>brand</th>\n",
       "      <th>selling_price</th>\n",
       "      <th>original_price</th>\n",
       "      <th>product_type</th>\n",
       "      <th>product_rating</th>\n",
       "      <th>product_description</th>\n",
       "      <th>availability_status</th>\n",
       "      <th>customer_reviews_count</th>\n",
       "      <th>seasonal_indicator</th>\n",
       "      <th>promotion_indicator</th>\n",
       "      <th>shipping_weight</th>\n",
       "      <th>bundle_indicator</th>\n",
       "      <th>customer_demographics</th>\n",
       "    </tr>\n",
       "  </thead>\n",
       "  <tbody>\n",
       "    <tr>\n",
       "      <th>5832</th>\n",
       "      <td>5833</td>\n",
       "      <td>Multi Utility Plastic Basket - Small, Black, R...</td>\n",
       "      <td>Cleaning &amp; Household</td>\n",
       "      <td>Bins &amp; Bathroom Ware</td>\n",
       "      <td>Ratan</td>\n",
       "      <td>129.0</td>\n",
       "      <td>169.0</td>\n",
       "      <td>Laundry, Storage Baskets</td>\n",
       "      <td>3.7</td>\n",
       "      <td>These are multipurpose baskets that are sturdy...</td>\n",
       "      <td>In Stock</td>\n",
       "      <td>64</td>\n",
       "      <td>Winter</td>\n",
       "      <td>No</td>\n",
       "      <td>3.978802</td>\n",
       "      <td>Individual</td>\n",
       "      <td>Female</td>\n",
       "    </tr>\n",
       "    <tr>\n",
       "      <th>8493</th>\n",
       "      <td>8494</td>\n",
       "      <td>Kitchen Multiutility Plastic Tray No. 2 - Blue...</td>\n",
       "      <td>Cleaning &amp; Household</td>\n",
       "      <td>Bins &amp; Bathroom Ware</td>\n",
       "      <td>Princeware</td>\n",
       "      <td>119.0</td>\n",
       "      <td>178.0</td>\n",
       "      <td>Laundry, Storage Baskets</td>\n",
       "      <td>3.7</td>\n",
       "      <td>This is a multipurpose basket which keeps your...</td>\n",
       "      <td>In Stock</td>\n",
       "      <td>84</td>\n",
       "      <td>Spring</td>\n",
       "      <td>No</td>\n",
       "      <td>4.469756</td>\n",
       "      <td>Bundle</td>\n",
       "      <td>Male</td>\n",
       "    </tr>\n",
       "    <tr>\n",
       "      <th>19578</th>\n",
       "      <td>19579</td>\n",
       "      <td>Phoenix Fruit &amp; Vegetable Plastic Basket - Ass...</td>\n",
       "      <td>Cleaning &amp; Household</td>\n",
       "      <td>Bins &amp; Bathroom Ware</td>\n",
       "      <td>Aristo</td>\n",
       "      <td>154.0</td>\n",
       "      <td>154.0</td>\n",
       "      <td>Laundry, Storage Baskets</td>\n",
       "      <td>3.7</td>\n",
       "      <td>Premium Quality BPA-free basket having a smoot...</td>\n",
       "      <td>In Stock</td>\n",
       "      <td>9</td>\n",
       "      <td>Summer</td>\n",
       "      <td>No</td>\n",
       "      <td>3.530815</td>\n",
       "      <td>Individual</td>\n",
       "      <td>Male</td>\n",
       "    </tr>\n",
       "  </tbody>\n",
       "</table>\n",
       "</div>"
      ],
      "text/plain": [
       "       product_id                                      product_title  \\\n",
       "5832         5833  Multi Utility Plastic Basket - Small, Black, R...   \n",
       "8493         8494  Kitchen Multiutility Plastic Tray No. 2 - Blue...   \n",
       "19578       19579  Phoenix Fruit & Vegetable Plastic Basket - Ass...   \n",
       "\n",
       "                   category   product_subcategory       brand  selling_price  \\\n",
       "5832   Cleaning & Household  Bins & Bathroom Ware       Ratan          129.0   \n",
       "8493   Cleaning & Household  Bins & Bathroom Ware  Princeware          119.0   \n",
       "19578  Cleaning & Household  Bins & Bathroom Ware      Aristo          154.0   \n",
       "\n",
       "       original_price              product_type  product_rating  \\\n",
       "5832            169.0  Laundry, Storage Baskets             3.7   \n",
       "8493            178.0  Laundry, Storage Baskets             3.7   \n",
       "19578           154.0  Laundry, Storage Baskets             3.7   \n",
       "\n",
       "                                     product_description availability_status  \\\n",
       "5832   These are multipurpose baskets that are sturdy...            In Stock   \n",
       "8493   This is a multipurpose basket which keeps your...            In Stock   \n",
       "19578  Premium Quality BPA-free basket having a smoot...            In Stock   \n",
       "\n",
       "       customer_reviews_count seasonal_indicator promotion_indicator  \\\n",
       "5832                       64             Winter                  No   \n",
       "8493                       84             Spring                  No   \n",
       "19578                       9             Summer                  No   \n",
       "\n",
       "       shipping_weight bundle_indicator customer_demographics  \n",
       "5832          3.978802       Individual                Female  \n",
       "8493          4.469756           Bundle                  Male  \n",
       "19578         3.530815       Individual                  Male  "
      ]
     },
     "execution_count": 46,
     "metadata": {},
     "output_type": "execute_result"
    }
   ],
   "source": [
    "data[(data['product_id'] != reference_product['product_id']) & (data['product_type'] == reference_product_type) & (data['product_rating'] >= reference_product['product_rating'] - rating_ball) & (data['product_rating'] <= reference_product['product_rating'] + rating_ball) & (data['original_price'] >= reference_product['original_price'] - pricing_ball) & (data['original_price'] <= reference_product['original_price'] + pricing_ball)]"
   ]
  },
  {
   "cell_type": "code",
   "execution_count": 34,
   "metadata": {},
   "outputs": [
    {
     "data": {
      "text/plain": [
       "product_id                                                                2\n",
       "product_title                                         Water Bottle - Orange\n",
       "category                                             Kitchen, Garden & Pets\n",
       "product_subcategory                                   Storage & Accessories\n",
       "brand                                                            Mastercook\n",
       "selling_price                                                         180.0\n",
       "original_price                                                        180.0\n",
       "product_type                                         Water & Fridge Bottles\n",
       "product_rating                                                          2.3\n",
       "product_description       Each product is microwave safe (without lid), ...\n",
       "availability_status                                                In Stock\n",
       "customer_reviews_count                                                   54\n",
       "seasonal_indicator                                                   Winter\n",
       "promotion_indicator                                                      No\n",
       "shipping_weight                                                    4.734585\n",
       "bundle_indicator                                                     Bundle\n",
       "customer_demographics                                                Female\n",
       "Name: 1, dtype: object"
      ]
     },
     "execution_count": 34,
     "metadata": {},
     "output_type": "execute_result"
    }
   ],
   "source": [
    "reference_product"
   ]
  }
 ],
 "metadata": {
  "kernelspec": {
   "display_name": "Python 3",
   "language": "python",
   "name": "python3"
  },
  "language_info": {
   "codemirror_mode": {
    "name": "ipython",
    "version": 3
   },
   "file_extension": ".py",
   "mimetype": "text/x-python",
   "name": "python",
   "nbconvert_exporter": "python",
   "pygments_lexer": "ipython3",
   "version": "3.10.12"
  }
 },
 "nbformat": 4,
 "nbformat_minor": 2
}
